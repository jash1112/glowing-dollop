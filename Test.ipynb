{
 "cells": [
  {
   "cell_type": "code",
   "execution_count": 1,
   "metadata": {},
   "outputs": [],
   "source": [
    "import pandas as pd"
   ]
  },
  {
   "cell_type": "code",
   "execution_count": 2,
   "metadata": {},
   "outputs": [],
   "source": [
    "import html5lib"
   ]
  },
  {
   "cell_type": "code",
   "execution_count": 3,
   "metadata": {},
   "outputs": [],
   "source": [
    "A = pd.read_html('https://www.chairs-chaires.gc.ca/chairholders-titulaires/index-eng.aspx')"
   ]
  },
  {
   "cell_type": "code",
   "execution_count": 6,
   "metadata": {},
   "outputs": [
    {
     "name": "stdout",
     "output_type": "stream",
     "text": [
      "<class 'list'>\n"
     ]
    }
   ],
   "source": [
    "print(type(A))"
   ]
  },
  {
   "cell_type": "code",
   "execution_count": 10,
   "metadata": {},
   "outputs": [
    {
     "name": "stdout",
     "output_type": "stream",
     "text": [
      "                         Unnamed: 0  \\\n",
      "0                          Province   \n",
      "1                        University   \n",
      "2                  Granting council   \n",
      "3                        Discipline   \n",
      "4  Researcher  (first or last name)   \n",
      "5                        Keyword(s)   \n",
      "6                               NaN   \n",
      "\n",
      "                                          Unnamed: 1  \n",
      "0  All Provinces \\tAlberta \\tBritish Columbia \\tM...  \n",
      "1  All Universities \\tAcadia University \\tAlgoma ...  \n",
      "2  All Subjects \\tCanadian Institutes of Health R...  \n",
      "3  All Disciplines \\tAccidents, Poisoning, Violen...  \n",
      "4                                                NaN  \n",
      "5                                                NaN  \n",
      "6                                                NaN  \n"
     ]
    }
   ],
   "source": [
    "B = A[0]\n",
    "print(B)"
   ]
  },
  {
   "cell_type": "code",
   "execution_count": 13,
   "metadata": {},
   "outputs": [
    {
     "data": {
      "text/plain": [
       "'C:\\\\Users\\\\Yash Bikash\\\\Desktop\\\\Python_learn'"
      ]
     },
     "execution_count": 13,
     "metadata": {},
     "output_type": "execute_result"
    }
   ],
   "source": [
    "import pandas as pd\n",
    "import os\n",
    "os.getcwd()"
   ]
  },
  {
   "cell_type": "code",
   "execution_count": 15,
   "metadata": {},
   "outputs": [],
   "source": [
    "file = \"C:\\\\Users\\\\Yash Bikash\\\\Desktop\\\\Python_learn\\\\Professors from Ontario.xlsx\""
   ]
  },
  {
   "cell_type": "code",
   "execution_count": 16,
   "metadata": {},
   "outputs": [],
   "source": [
    "x = pd.ExcelFile(file)"
   ]
  },
  {
   "cell_type": "code",
   "execution_count": 17,
   "metadata": {},
   "outputs": [
    {
     "name": "stdout",
     "output_type": "stream",
     "text": [
      "['Sheet1']\n"
     ]
    }
   ],
   "source": [
    "print(x.sheet_names)"
   ]
  },
  {
   "cell_type": "code",
   "execution_count": 20,
   "metadata": {},
   "outputs": [
    {
     "data": {
      "text/html": [
       "<div>\n",
       "<style scoped>\n",
       "    .dataframe tbody tr th:only-of-type {\n",
       "        vertical-align: middle;\n",
       "    }\n",
       "\n",
       "    .dataframe tbody tr th {\n",
       "        vertical-align: top;\n",
       "    }\n",
       "\n",
       "    .dataframe thead th {\n",
       "        text-align: right;\n",
       "    }\n",
       "</style>\n",
       "<table border=\"1\" class=\"dataframe\">\n",
       "  <thead>\n",
       "    <tr style=\"text-align: right;\">\n",
       "      <th></th>\n",
       "      <th>Name</th>\n",
       "      <th>Tier</th>\n",
       "      <th>University</th>\n",
       "      <th>Granting Council</th>\n",
       "      <th>Research Discipline</th>\n",
       "    </tr>\n",
       "  </thead>\n",
       "  <tbody>\n",
       "    <tr>\n",
       "      <th>0</th>\n",
       "      <td>Bansal, Pratima</td>\n",
       "      <td>1.0</td>\n",
       "      <td>Western University</td>\n",
       "      <td>Social Sciences and Humanities Research Council</td>\n",
       "      <td>Management, Business, Administrative Studies</td>\n",
       "    </tr>\n",
       "    <tr>\n",
       "      <th>1</th>\n",
       "      <td>Bauer, Andrew M</td>\n",
       "      <td>2.0</td>\n",
       "      <td>University of Waterloo</td>\n",
       "      <td>Social Sciences and Humanities Research Council</td>\n",
       "      <td>Management, Business, Administrative Studies</td>\n",
       "    </tr>\n",
       "    <tr>\n",
       "      <th>2</th>\n",
       "      <td>Beamish, Paul</td>\n",
       "      <td>1.0</td>\n",
       "      <td>Western University</td>\n",
       "      <td>Social Sciences and Humanities Research Council</td>\n",
       "      <td>Management, Business, Administrative Studies</td>\n",
       "    </tr>\n",
       "    <tr>\n",
       "      <th>3</th>\n",
       "      <td>Connelly, Brian S.</td>\n",
       "      <td>2.0</td>\n",
       "      <td>University of Toronto</td>\n",
       "      <td>Social Sciences and Humanities Research Council</td>\n",
       "      <td>Management, Business, Administrative Studies</td>\n",
       "    </tr>\n",
       "    <tr>\n",
       "      <th>4</th>\n",
       "      <td>Connelly, Catherine</td>\n",
       "      <td>2.0</td>\n",
       "      <td>McMaster University</td>\n",
       "      <td>Social Sciences and Humanities Research Council</td>\n",
       "      <td>Management, Business, Administrative Studies</td>\n",
       "    </tr>\n",
       "    <tr>\n",
       "      <th>5</th>\n",
       "      <td>Gill, Tripat</td>\n",
       "      <td>2.0</td>\n",
       "      <td>Wilfrid Laurier University</td>\n",
       "      <td>Social Sciences and Humanities Research Council</td>\n",
       "      <td>Management, Business, Administrative Studies</td>\n",
       "    </tr>\n",
       "    <tr>\n",
       "      <th>6</th>\n",
       "      <td>Hackett, Rick</td>\n",
       "      <td>1.0</td>\n",
       "      <td>McMaster University</td>\n",
       "      <td>Social Sciences and Humanities Research Council</td>\n",
       "      <td>Management, Business, Administrative Studies</td>\n",
       "    </tr>\n",
       "    <tr>\n",
       "      <th>7</th>\n",
       "      <td>Noseworthy, Theodore</td>\n",
       "      <td>2.0</td>\n",
       "      <td>York University</td>\n",
       "      <td>Social Sciences and Humanities Research Council</td>\n",
       "      <td>Management, Business, Administrative Studies</td>\n",
       "    </tr>\n",
       "    <tr>\n",
       "      <th>8</th>\n",
       "      <td>Shkilko, Andriy</td>\n",
       "      <td>2.0</td>\n",
       "      <td>Wilfrid Laurier University</td>\n",
       "      <td>Social Sciences and Humanities Research Council</td>\n",
       "      <td>Management, Business, Administrative Studies</td>\n",
       "    </tr>\n",
       "    <tr>\n",
       "      <th>9</th>\n",
       "      <td>Tilcsik, Andras</td>\n",
       "      <td>2.0</td>\n",
       "      <td>University of Toronto</td>\n",
       "      <td>Social Sciences and Humanities Research Council</td>\n",
       "      <td>Management, Business, Administrative Studies</td>\n",
       "    </tr>\n",
       "  </tbody>\n",
       "</table>\n",
       "</div>"
      ],
      "text/plain": [
       "                   Name  Tier                  University  \\\n",
       "0       Bansal, Pratima   1.0          Western University   \n",
       "1       Bauer, Andrew M   2.0      University of Waterloo   \n",
       "2         Beamish, Paul   1.0          Western University   \n",
       "3    Connelly, Brian S.   2.0       University of Toronto   \n",
       "4   Connelly, Catherine   2.0         McMaster University   \n",
       "5          Gill, Tripat   2.0  Wilfrid Laurier University   \n",
       "6         Hackett, Rick   1.0         McMaster University   \n",
       "7  Noseworthy, Theodore   2.0             York University   \n",
       "8       Shkilko, Andriy   2.0  Wilfrid Laurier University   \n",
       "9       Tilcsik, Andras   2.0       University of Toronto   \n",
       "\n",
       "                                  Granting Council  \\\n",
       "0  Social Sciences and Humanities Research Council   \n",
       "1  Social Sciences and Humanities Research Council   \n",
       "2  Social Sciences and Humanities Research Council   \n",
       "3  Social Sciences and Humanities Research Council   \n",
       "4  Social Sciences and Humanities Research Council   \n",
       "5  Social Sciences and Humanities Research Council   \n",
       "6  Social Sciences and Humanities Research Council   \n",
       "7  Social Sciences and Humanities Research Council   \n",
       "8  Social Sciences and Humanities Research Council   \n",
       "9  Social Sciences and Humanities Research Council   \n",
       "\n",
       "                            Research Discipline  \n",
       "0  Management, Business, Administrative Studies  \n",
       "1  Management, Business, Administrative Studies  \n",
       "2  Management, Business, Administrative Studies  \n",
       "3  Management, Business, Administrative Studies  \n",
       "4  Management, Business, Administrative Studies  \n",
       "5  Management, Business, Administrative Studies  \n",
       "6  Management, Business, Administrative Studies  \n",
       "7  Management, Business, Administrative Studies  \n",
       "8  Management, Business, Administrative Studies  \n",
       "9  Management, Business, Administrative Studies  "
      ]
     },
     "execution_count": 20,
     "metadata": {},
     "output_type": "execute_result"
    }
   ],
   "source": [
    "df = x.parse('Sheet1')\n",
    "df.head(10)"
   ]
  },
  {
   "cell_type": "code",
   "execution_count": 21,
   "metadata": {},
   "outputs": [],
   "source": [
    "df.drop(['Granting Council','Research Discipline'],axis=1, inplace=True)"
   ]
  },
  {
   "cell_type": "code",
   "execution_count": 24,
   "metadata": {},
   "outputs": [
    {
     "data": {
      "text/html": [
       "<div>\n",
       "<style scoped>\n",
       "    .dataframe tbody tr th:only-of-type {\n",
       "        vertical-align: middle;\n",
       "    }\n",
       "\n",
       "    .dataframe tbody tr th {\n",
       "        vertical-align: top;\n",
       "    }\n",
       "\n",
       "    .dataframe thead th {\n",
       "        text-align: right;\n",
       "    }\n",
       "</style>\n",
       "<table border=\"1\" class=\"dataframe\">\n",
       "  <thead>\n",
       "    <tr style=\"text-align: right;\">\n",
       "      <th></th>\n",
       "      <th>Name</th>\n",
       "      <th>Tier</th>\n",
       "      <th>University</th>\n",
       "    </tr>\n",
       "  </thead>\n",
       "  <tbody>\n",
       "    <tr>\n",
       "      <th>0</th>\n",
       "      <td>Bansal, Pratima</td>\n",
       "      <td>1.0</td>\n",
       "      <td>Western University</td>\n",
       "    </tr>\n",
       "    <tr>\n",
       "      <th>1</th>\n",
       "      <td>Bauer, Andrew M</td>\n",
       "      <td>2.0</td>\n",
       "      <td>University of Waterloo</td>\n",
       "    </tr>\n",
       "    <tr>\n",
       "      <th>2</th>\n",
       "      <td>Beamish, Paul</td>\n",
       "      <td>1.0</td>\n",
       "      <td>Western University</td>\n",
       "    </tr>\n",
       "    <tr>\n",
       "      <th>3</th>\n",
       "      <td>Connelly, Brian S.</td>\n",
       "      <td>2.0</td>\n",
       "      <td>University of Toronto</td>\n",
       "    </tr>\n",
       "    <tr>\n",
       "      <th>4</th>\n",
       "      <td>Connelly, Catherine</td>\n",
       "      <td>2.0</td>\n",
       "      <td>McMaster University</td>\n",
       "    </tr>\n",
       "    <tr>\n",
       "      <th>5</th>\n",
       "      <td>Gill, Tripat</td>\n",
       "      <td>2.0</td>\n",
       "      <td>Wilfrid Laurier University</td>\n",
       "    </tr>\n",
       "    <tr>\n",
       "      <th>6</th>\n",
       "      <td>Hackett, Rick</td>\n",
       "      <td>1.0</td>\n",
       "      <td>McMaster University</td>\n",
       "    </tr>\n",
       "    <tr>\n",
       "      <th>7</th>\n",
       "      <td>Noseworthy, Theodore</td>\n",
       "      <td>2.0</td>\n",
       "      <td>York University</td>\n",
       "    </tr>\n",
       "    <tr>\n",
       "      <th>8</th>\n",
       "      <td>Shkilko, Andriy</td>\n",
       "      <td>2.0</td>\n",
       "      <td>Wilfrid Laurier University</td>\n",
       "    </tr>\n",
       "    <tr>\n",
       "      <th>9</th>\n",
       "      <td>Tilcsik, Andras</td>\n",
       "      <td>2.0</td>\n",
       "      <td>University of Toronto</td>\n",
       "    </tr>\n",
       "    <tr>\n",
       "      <th>10</th>\n",
       "      <td>NaN</td>\n",
       "      <td>NaN</td>\n",
       "      <td>NaN</td>\n",
       "    </tr>\n",
       "    <tr>\n",
       "      <th>11</th>\n",
       "      <td>** Found this 3 professors that maybe suits wi...</td>\n",
       "      <td>NaN</td>\n",
       "      <td>NaN</td>\n",
       "    </tr>\n",
       "    <tr>\n",
       "      <th>12</th>\n",
       "      <td>** You can also email to others if their resea...</td>\n",
       "      <td>NaN</td>\n",
       "      <td>NaN</td>\n",
       "    </tr>\n",
       "  </tbody>\n",
       "</table>\n",
       "</div>"
      ],
      "text/plain": [
       "                                                 Name  Tier  \\\n",
       "0                                     Bansal, Pratima   1.0   \n",
       "1                                     Bauer, Andrew M   2.0   \n",
       "2                                       Beamish, Paul   1.0   \n",
       "3                                  Connelly, Brian S.   2.0   \n",
       "4                                 Connelly, Catherine   2.0   \n",
       "5                                        Gill, Tripat   2.0   \n",
       "6                                       Hackett, Rick   1.0   \n",
       "7                                Noseworthy, Theodore   2.0   \n",
       "8                                     Shkilko, Andriy   2.0   \n",
       "9                                     Tilcsik, Andras   2.0   \n",
       "10                                                NaN   NaN   \n",
       "11  ** Found this 3 professors that maybe suits wi...   NaN   \n",
       "12  ** You can also email to others if their resea...   NaN   \n",
       "\n",
       "                    University  \n",
       "0           Western University  \n",
       "1       University of Waterloo  \n",
       "2           Western University  \n",
       "3        University of Toronto  \n",
       "4          McMaster University  \n",
       "5   Wilfrid Laurier University  \n",
       "6          McMaster University  \n",
       "7              York University  \n",
       "8   Wilfrid Laurier University  \n",
       "9        University of Toronto  \n",
       "10                         NaN  \n",
       "11                         NaN  \n",
       "12                         NaN  "
      ]
     },
     "execution_count": 24,
     "metadata": {},
     "output_type": "execute_result"
    }
   ],
   "source": [
    "df"
   ]
  },
  {
   "cell_type": "code",
   "execution_count": null,
   "metadata": {},
   "outputs": [],
   "source": []
  }
 ],
 "metadata": {
  "kernelspec": {
   "display_name": "Python 3",
   "language": "python",
   "name": "python3"
  },
  "language_info": {
   "codemirror_mode": {
    "name": "ipython",
    "version": 3
   },
   "file_extension": ".py",
   "mimetype": "text/x-python",
   "name": "python",
   "nbconvert_exporter": "python",
   "pygments_lexer": "ipython3",
   "version": "3.7.6"
  }
 },
 "nbformat": 4,
 "nbformat_minor": 4
}
